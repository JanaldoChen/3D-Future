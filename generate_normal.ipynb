{
 "cells": [
  {
   "cell_type": "code",
   "execution_count": 1,
   "metadata": {},
   "outputs": [],
   "source": [
    "import os\n",
    "import torch\n",
    "import time\n",
    "import numpy as np\n",
    "import trimesh\n",
    "from progressbar import *\n",
    "from sklearn import preprocessing\n",
    "from utils.util import load_obj, write_pickle_file, get_obj_vertex_ali\n",
    "from utils.generate_normal import readFaceInfo, generate_normal"
   ]
  },
  {
   "cell_type": "code",
   "execution_count": 2,
   "metadata": {},
   "outputs": [],
   "source": [
    "data_root = 'data/Future-3D-Reconstruction'\n",
    "model_dir = os.path.join(data_root, 'train', 'model')\n",
    "verts_normals_dir = os.path.join(data_root, 'train', 'verts_normals')"
   ]
  },
  {
   "cell_type": "code",
   "execution_count": 3,
   "metadata": {},
   "outputs": [
    {
     "name": "stdout",
     "output_type": "stream",
     "text": [
      "5203\n"
     ]
    }
   ],
   "source": [
    "model_IDs = os.listdir(model_dir)\n",
    "model_IDs = [ID for ID in model_IDs if ID[-4:] == '.obj']\n",
    "print(len(model_IDs))"
   ]
  },
  {
   "cell_type": "code",
   "execution_count": 4,
   "metadata": {},
   "outputs": [],
   "source": [
    "def sample_points_from_mesh(obj_path, num_verts=None):\n",
    "    obj_dict = load_obj(obj_path)\n",
    "    mesh = trimesh.Trimesh(obj_dict['vertices'], obj_dict['faces'], process=False)\n",
    "    \n",
    "    if num_verts is None:\n",
    "        num_verts = mesh.vertices.shape[0]\n",
    "    points, index = trimesh.sample.sample_surface(mesh, num_verts)\n",
    "\n",
    "    triangles = mesh.triangles[index]\n",
    "    pt1 = triangles[:,0,:]\n",
    "    pt2 = triangles[:,1,:]\n",
    "    pt3 = triangles[:,2,:]\n",
    "    normal = np.cross(pt3-pt1, pt2-pt1)\n",
    "    normal = preprocessing.normalize(normal, axis=1)\n",
    "\n",
    "    return points, normal"
   ]
  },
  {
   "cell_type": "code",
   "execution_count": 5,
   "metadata": {},
   "outputs": [],
   "source": [
    "def get_verts_and_normals(obj_path):\n",
    "    obj_dict = load_obj(obj_path)\n",
    "    verts = obj_dict['vertices']\n",
    "    vns = obj_dict['vns']\n",
    "    faces = obj_dict['faces']\n",
    "    faces_vns = obj_dict['faces_vns']\n",
    "    \n",
    "    normals = np.zeros_like(verts)\n",
    "    for i in range(faces.shape[0]):\n",
    "        normals[faces[i]] += vns[faces_vns[i]]\n",
    "    normals = preprocessing.normalize(normals, axis=1)\n",
    "    return verts, normals"
   ]
  },
  {
   "cell_type": "code",
   "execution_count": 7,
   "metadata": {},
   "outputs": [],
   "source": [
    "for fn in os.listdir(verts_normals_dir):\n",
    "    os.remove(os.path.join(verts_normals_dir, fn))"
   ]
  },
  {
   "cell_type": "code",
   "execution_count": null,
   "metadata": {},
   "outputs": [
    {
     "name": "stderr",
     "output_type": "stream",
     "text": [
      "Progress:  57% |##############            | Elapsed Time: 0:11:35 ETA:  0:08:43\r"
     ]
    }
   ],
   "source": [
    "widgets = ['Progress: ', Percentage(), ' ', Bar('#'), ' ', Timer(), ' ', ETA()]\n",
    "total = len(model_IDs)\n",
    "pbar = ProgressBar(widgets=widgets, maxval=10*total).start()\n",
    "for i, model_ID in enumerate(model_IDs):\n",
    "    model_path = os.path.join(model_dir, model_ID)\n",
    "    verts_normals_path = os.path.join(verts_normals_dir, model_ID.replace('.obj', '.pkl'))\n",
    "    #verts, normals = sample_points_from_mesh(model_path, num_verts=16384)\n",
    "    try:\n",
    "        verts, normals = get_verts_and_normals(model_path)\n",
    "        write_pickle_file(verts_normals_path, {'verts': verts, 'normals': normals})\n",
    "    except:\n",
    "        continue\n",
    "    pbar.update(10 * i + 1)\n",
    "pbar.finish()"
   ]
  },
  {
   "cell_type": "code",
   "execution_count": null,
   "metadata": {},
   "outputs": [],
   "source": [
    "widgets = ['Progress: ', Percentage(), ' ', Bar('#'), ' ', Timer(), ' ', ETA()]\n",
    "total = len(model_IDs)\n",
    "pbar = ProgressBar(widgets=widgets, maxval=10*total).start()\n",
    "for i, model_ID in enumerate(model_IDs):\n",
    "    model_path = os.path.join(model_dir, model_ID)\n",
    "    verts_normals_path = os.path.join(verts_normals_dir, model_ID.replace('.obj', '.pth'))\n",
    "    face_pts, face_axis = readFaceInfo(model_path)\n",
    "    #print(face_pts.shape, face_axis.shape)\n",
    "    verts = get_obj_vertex_ali(model_path)\n",
    "    #print(verts.shape)\n",
    "    verts, normals = generate_normal(verts, face_pts, face_axis)\n",
    "    #print(verts.shape, normals.shape)\n",
    "    write_pickle_file(verts_normals_path, {'verts': verts, 'normals': normals})\n",
    "    pbar.update(10 * i + 1)\n",
    "pbar.finish()"
   ]
  },
  {
   "cell_type": "code",
   "execution_count": null,
   "metadata": {},
   "outputs": [],
   "source": []
  }
 ],
 "metadata": {
  "kernelspec": {
   "display_name": "Python 3",
   "language": "python",
   "name": "python3"
  },
  "language_info": {
   "codemirror_mode": {
    "name": "ipython",
    "version": 3
   },
   "file_extension": ".py",
   "mimetype": "text/x-python",
   "name": "python",
   "nbconvert_exporter": "python",
   "pygments_lexer": "ipython3",
   "version": "3.7.7"
  }
 },
 "nbformat": 4,
 "nbformat_minor": 4
}
